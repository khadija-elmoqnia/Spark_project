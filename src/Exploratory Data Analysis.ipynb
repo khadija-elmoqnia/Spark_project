{
 "cells": [
  {
   "cell_type": "code",
   "execution_count": 1,
   "metadata": {},
   "outputs": [],
   "source": [
    "# Importing necessary libraries\n",
    "import pandas as pd\n",
    "import numpy as np\n",
    "import matplotlib.pyplot as plt\n",
    "import seaborn as sns\n",
    "from sklearn.preprocessing import StandardScaler\n",
    "from scipy.stats import norm\n",
    "\n",
    "def load_data_from_excel(data_dir):\n",
    "    # Load the training, test, and RUL data from Excel files\n",
    "    train_set = pd.read_excel(f\"{data_dir}/train_FD001.xlsx\")\n",
    "    test_set = pd.read_excel(f\"{data_dir}/test_FD001.xlsx\")\n",
    "    RUL_test_set = pd.read_excel(f\"{data_dir}/RUL_FD001.xlsx\")\n",
    "    \n",
    "    return train_set, test_set, RUL_test_set\n",
    "\n",
    "# Load the data\n",
    "data_dir = r\"C:\\Users\\Admin\\Downloads\\CMAPSSData\"\n",
    "train_set, test_set, RUL_test_set = load_data_from_excel(data_dir)"
   ]
  },
  {
   "cell_type": "code",
   "execution_count": 2,
   "metadata": {},
   "outputs": [
    {
     "name": "stdout",
     "output_type": "stream",
     "text": [
      "Index(['Unit number', 'Time (in cycles)', 'Operational setting 1',\n",
      "       'Operational setting 2', 'Operational setting 3',\n",
      "       'Sensor measurement 1', 'Sensor measurement 2', 'Sensor measurement 3',\n",
      "       'Sensor measurement 4', 'Sensor measurement 5', 'Sensor measurement 6',\n",
      "       'Sensor measurement 7', 'Sensor measurement 8', 'Sensor measurement 9',\n",
      "       'Sensor measurement 10', 'Sensor measurement 11',\n",
      "       'Sensor measurement 12', 'Sensor measurement 13',\n",
      "       'Sensor measurement 14', 'Sensor measurement 15',\n",
      "       'Sensor measurement 16', 'Sensor measurement 17',\n",
      "       'Sensor measurement 18', 'Sensor measurement 19',\n",
      "       'Sensor measurement 20', 'Sensor measurement 21'],\n",
      "      dtype='object')\n"
     ]
    }
   ],
   "source": [
    "print(train_set.columns)\n"
   ]
  },
  {
   "cell_type": "code",
   "execution_count": 3,
   "metadata": {},
   "outputs": [],
   "source": [
    "# Add Time to Event (TTE) variable\n",
    "def add_tte(dataset):\n",
    "    dataset['TTE'] = dataset.groupby('Unit number')['Time (in cycles)'].transform('max') - dataset['Time (in cycles)']\n",
    "    return dataset\n",
    "\n",
    "train_set = add_tte(train_set)\n",
    "\n",
    "\n"
   ]
  },
  {
   "cell_type": "code",
   "execution_count": 4,
   "metadata": {},
   "outputs": [
    {
     "name": "stdout",
     "output_type": "stream",
     "text": [
      "Index(['Unit number', 'Time (in cycles)', 'Operational setting 1',\n",
      "       'Operational setting 2', 'Operational setting 3',\n",
      "       'Sensor measurement 1', 'Sensor measurement 2', 'Sensor measurement 3',\n",
      "       'Sensor measurement 4', 'Sensor measurement 5', 'Sensor measurement 6',\n",
      "       'Sensor measurement 7', 'Sensor measurement 8', 'Sensor measurement 9',\n",
      "       'Sensor measurement 10', 'Sensor measurement 11',\n",
      "       'Sensor measurement 12', 'Sensor measurement 13',\n",
      "       'Sensor measurement 14', 'Sensor measurement 15',\n",
      "       'Sensor measurement 16', 'Sensor measurement 17',\n",
      "       'Sensor measurement 18', 'Sensor measurement 19',\n",
      "       'Sensor measurement 20', 'Sensor measurement 21', 'TTE'],\n",
      "      dtype='object')\n",
      "<class 'pandas.core.frame.DataFrame'>\n",
      "RangeIndex: 20631 entries, 0 to 20630\n",
      "Data columns (total 27 columns):\n",
      " #   Column                 Non-Null Count  Dtype  \n",
      "---  ------                 --------------  -----  \n",
      " 0   Unit number            20631 non-null  int64  \n",
      " 1   Time (in cycles)       20631 non-null  int64  \n",
      " 2   Operational setting 1  20631 non-null  float64\n",
      " 3   Operational setting 2  20631 non-null  float64\n",
      " 4   Operational setting 3  20631 non-null  float64\n",
      " 5   Sensor measurement 1   20631 non-null  float64\n",
      " 6   Sensor measurement 2   20631 non-null  float64\n",
      " 7   Sensor measurement 3   20631 non-null  float64\n",
      " 8   Sensor measurement 4   20631 non-null  float64\n",
      " 9   Sensor measurement 5   20631 non-null  float64\n",
      " 10  Sensor measurement 6   20631 non-null  float64\n",
      " 11  Sensor measurement 7   20631 non-null  float64\n",
      " 12  Sensor measurement 8   20631 non-null  float64\n",
      " 13  Sensor measurement 9   20631 non-null  float64\n",
      " 14  Sensor measurement 10  20631 non-null  float64\n",
      " 15  Sensor measurement 11  20631 non-null  float64\n",
      " 16  Sensor measurement 12  20631 non-null  float64\n",
      " 17  Sensor measurement 13  20631 non-null  float64\n",
      " 18  Sensor measurement 14  20631 non-null  float64\n",
      " 19  Sensor measurement 15  20631 non-null  float64\n",
      " 20  Sensor measurement 16  20631 non-null  float64\n",
      " 21  Sensor measurement 17  20631 non-null  int64  \n",
      " 22  Sensor measurement 18  20631 non-null  int64  \n",
      " 23  Sensor measurement 19  20631 non-null  float64\n",
      " 24  Sensor measurement 20  20631 non-null  float64\n",
      " 25  Sensor measurement 21  20631 non-null  float64\n",
      " 26  TTE                    20631 non-null  int64  \n",
      "dtypes: float64(22), int64(5)\n",
      "memory usage: 4.2 MB\n",
      "None\n"
     ]
    }
   ],
   "source": [
    "print(train_set.columns)\n",
    "print(train_set.info())\n"
   ]
  },
  {
   "cell_type": "code",
   "execution_count": 10,
   "metadata": {},
   "outputs": [],
   "source": [
    "RUL_test_set.to_csv('RUL_test_set.csv', index=False)\n"
   ]
  },
  {
   "cell_type": "code",
   "execution_count": null,
   "metadata": {},
   "outputs": [],
   "source": [
    "#################### EXPLORATION \n",
    "\n",
    "import pandas as pd\n",
    "import seaborn as sns\n",
    "import matplotlib.pyplot as plt\n",
    "\n",
    "\n",
    "features = ['Unit number', 'Time (in cycles)', 'Operational setting 1',\n",
    "       'Operational setting 2', 'Operational setting 3',\n",
    "       'Sensor measurement 1', 'Sensor measurement 2', 'Sensor measurement 3',\n",
    "       'Sensor measurement 4', 'Sensor measurement 5', 'Sensor measurement 6',\n",
    "       'Sensor measurement 7', 'Sensor measurement 8', 'Sensor measurement 9',\n",
    "       'Sensor measurement 10', 'Sensor measurement 11',\n",
    "       'Sensor measurement 12', 'Sensor measurement 13',\n",
    "       'Sensor measurement 14', 'Sensor measurement 15',\n",
    "       'Sensor measurement 16', 'Sensor measurement 17',\n",
    "       'Sensor measurement 18', 'Sensor measurement 19',\n",
    "       'Sensor measurement 20', 'Sensor measurement 21' ]\n",
    "\n",
    "# Créer des scatterplots pour chaque caractéristique par rapport à la variable cible \"TTE\"\n",
    "for feature in features:\n",
    "    sns.scatterplot(x=feature, y='TTE', data=train_set)\n",
    "    plt.title(f'Scatterplot de {feature} par rapport à TTE')\n",
    "    plt.xlabel(feature)\n",
    "    plt.ylabel('TTE')\n",
    "    plt.show()\n"
   ]
  },
  {
   "cell_type": "code",
   "execution_count": null,
   "metadata": {},
   "outputs": [],
   "source": [
    "#######{{{{{{{{{2}}}}}################################# Exploration ##########################\n",
    "\n",
    "import pandas as pd\n",
    "import numpy as np\n",
    "import seaborn as sns\n",
    "import matplotlib.pyplot as plt\n",
    "\n",
    "\n",
    "\n",
    "# Variables explicatives et cible\n",
    "variables_explicatives =['Unit number', 'Time (in cycles)', 'Operational setting 1',\n",
    "       'Operational setting 2', 'Operational setting 3',\n",
    "       'Sensor measurement 1', 'Sensor measurement 2', 'Sensor measurement 3',\n",
    "       'Sensor measurement 4', 'Sensor measurement 5', 'Sensor measurement 6',\n",
    "       'Sensor measurement 7', 'Sensor measurement 8', 'Sensor measurement 9',\n",
    "       'Sensor measurement 10', 'Sensor measurement 11',\n",
    "       'Sensor measurement 12', 'Sensor measurement 13',\n",
    "       'Sensor measurement 14', 'Sensor measurement 15',\n",
    "       'Sensor measurement 16', 'Sensor measurement 17',\n",
    "       'Sensor measurement 18', 'Sensor measurement 19',\n",
    "       'Sensor measurement 20', 'Sensor measurement 21']\n",
    "variable_cible = 'TTE'\n",
    "\n",
    "# Représentation graphique des distributions des variables\n",
    "for variable in variables_explicatives + [variable_cible]:\n",
    "    sns.histplot(train_set[variable], kde=True)\n",
    "    plt.title(f'Distribution de {variable}')\n",
    "    plt.xlabel(variable)\n",
    "    plt.ylabel('Fréquence')\n",
    "    plt.show()\n",
    "\n",
    "# Analyse de la distribution de la variable cible\n",
    "sns.histplot(train_set[variable_cible], kde=True)\n",
    "plt.title(f'Distribution de {variable_cible}')\n",
    "plt.xlabel(variable_cible)\n",
    "plt.ylabel('Fréquence')\n",
    "plt.show()"
   ]
  }
 ],
 "metadata": {
  "kernelspec": {
   "display_name": "Python 3",
   "language": "python",
   "name": "python3"
  },
  "language_info": {
   "codemirror_mode": {
    "name": "ipython",
    "version": 3
   },
   "file_extension": ".py",
   "mimetype": "text/x-python",
   "name": "python",
   "nbconvert_exporter": "python",
   "pygments_lexer": "ipython3",
   "version": "3.12.4"
  }
 },
 "nbformat": 4,
 "nbformat_minor": 2
}
